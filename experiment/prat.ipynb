{
 "cells": [
  {
   "cell_type": "code",
   "execution_count": 3,
   "id": "2c230c50-fccb-4e07-8e97-b8c6c11e843b",
   "metadata": {},
   "outputs": [
    {
     "name": "stdout",
     "output_type": "stream",
     "text": [
      "Requirement already satisfied: pratlib in c:\\users\\pratiush\\anaconda3\\lib\\site-packages (1.0.1)\n",
      "Collecting pratlib\n",
      "  Downloading pratlib-1.0.3-py3-none-any.whl.metadata (757 bytes)\n",
      "Requirement already satisfied: pyspark>=3.0.0 in c:\\users\\pratiush\\anaconda3\\lib\\site-packages (from pratlib) (3.5.1)\n",
      "Requirement already satisfied: py4j==0.10.9.7 in c:\\users\\pratiush\\anaconda3\\lib\\site-packages (from pyspark>=3.0.0->pratlib) (0.10.9.7)\n",
      "Downloading pratlib-1.0.3-py3-none-any.whl (10 kB)\n",
      "Installing collected packages: pratlib\n",
      "  Attempting uninstall: pratlib\n",
      "    Found existing installation: pratlib 1.0.1\n",
      "    Uninstalling pratlib-1.0.1:\n",
      "      Successfully uninstalled pratlib-1.0.1\n",
      "Successfully installed pratlib-1.0.3\n",
      "Note: you may need to restart the kernel to use updated packages.\n"
     ]
    }
   ],
   "source": [
    "pip install pratlib --upgrade"
   ]
  },
  {
   "cell_type": "code",
   "execution_count": 4,
   "id": "b6beb7ad-04a5-49a4-a6f2-2b061a6bf048",
   "metadata": {},
   "outputs": [
    {
     "ename": "ModuleNotFoundError",
     "evalue": "No module named 'pratlib'",
     "output_type": "error",
     "traceback": [
      "\u001b[1;31m---------------------------------------------------------------------------\u001b[0m",
      "\u001b[1;31mModuleNotFoundError\u001b[0m                       Traceback (most recent call last)",
      "Cell \u001b[1;32mIn[4], line 1\u001b[0m\n\u001b[1;32m----> 1\u001b[0m \u001b[38;5;28;01mfrom\u001b[39;00m \u001b[38;5;21;01mpratlib\u001b[39;00m\u001b[38;5;21;01m.\u001b[39;00m\u001b[38;5;21;01mpreprocessing\u001b[39;00m \u001b[38;5;28;01mimport\u001b[39;00m \u001b[38;5;241m*\u001b[39m\n",
      "\u001b[1;31mModuleNotFoundError\u001b[0m: No module named 'pratlib'"
     ]
    }
   ],
   "source": [
    "from pratlib.preprocessing import *"
   ]
  },
  {
   "cell_type": "code",
   "execution_count": null,
   "id": "3835b2bc-6577-4ac7-ac1b-96ff63273064",
   "metadata": {},
   "outputs": [],
   "source": []
  }
 ],
 "metadata": {
  "kernelspec": {
   "display_name": "Python 3 (ipykernel)",
   "language": "python",
   "name": "python3"
  },
  "language_info": {
   "codemirror_mode": {
    "name": "ipython",
    "version": 3
   },
   "file_extension": ".py",
   "mimetype": "text/x-python",
   "name": "python",
   "nbconvert_exporter": "python",
   "pygments_lexer": "ipython3",
   "version": "3.11.7"
  }
 },
 "nbformat": 4,
 "nbformat_minor": 5
}
