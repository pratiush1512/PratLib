{
 "cells": [
  {
   "cell_type": "code",
   "execution_count": 38,
   "id": "0c260dd9-895e-441c-ae91-645201afb021",
   "metadata": {},
   "outputs": [],
   "source": [
    "import pyspark"
   ]
  },
  {
   "cell_type": "code",
   "execution_count": 39,
   "id": "b450d110-f8c3-4763-b6e8-f7bb96c0f15f",
   "metadata": {},
   "outputs": [],
   "source": [
    "from pyspark.sql import SparkSession"
   ]
  },
  {
   "cell_type": "code",
   "execution_count": 40,
   "id": "6b4eb558-fbb1-4efc-aee0-83e639e9bb6b",
   "metadata": {},
   "outputs": [],
   "source": [
    "spark = SparkSession.builder.appName(\"Experiment\").getOrCreate()"
   ]
  },
  {
   "cell_type": "code",
   "execution_count": 41,
   "id": "fa4cb88b-f67f-4d9e-9838-97ac0b130037",
   "metadata": {},
   "outputs": [
    {
     "data": {
      "text/html": [
       "\n",
       "            <div>\n",
       "                <p><b>SparkSession - in-memory</b></p>\n",
       "                \n",
       "        <div>\n",
       "            <p><b>SparkContext</b></p>\n",
       "\n",
       "            <p><a href=\"http://localhost:4040\">Spark UI</a></p>\n",
       "\n",
       "            <dl>\n",
       "              <dt>Version</dt>\n",
       "                <dd><code>v3.5.1</code></dd>\n",
       "              <dt>Master</dt>\n",
       "                <dd><code>local[*]</code></dd>\n",
       "              <dt>AppName</dt>\n",
       "                <dd><code>Experiment</code></dd>\n",
       "            </dl>\n",
       "        </div>\n",
       "        \n",
       "            </div>\n",
       "        "
      ],
      "text/plain": [
       "<pyspark.sql.session.SparkSession at 0x1d8cc904b10>"
      ]
     },
     "execution_count": 41,
     "metadata": {},
     "output_type": "execute_result"
    }
   ],
   "source": [
    "spark"
   ]
  },
  {
   "cell_type": "code",
   "execution_count": 42,
   "id": "147e3320-0694-4ead-87f2-e9a572135106",
   "metadata": {},
   "outputs": [],
   "source": [
    "data_path = \"C:\\\\Users\\\\Pratiush\\\\Desktop\\\\PratLib\\\\PratLib\\\\data\\\\sales_data.csv\"\n",
    "\n",
    "# Reading a CSV file into a DataFrame\n",
    "df = spark.read.csv(data_path, header=True, inferSchema=True)"
   ]
  },
  {
   "cell_type": "code",
   "execution_count": 43,
   "id": "9a0a8fed-67e9-4fab-ae02-8026948cef78",
   "metadata": {},
   "outputs": [
    {
     "name": "stdout",
     "output_type": "stream",
     "text": [
      "+-------+----------+------+-----+----------+-------------+--------------------------+--------------+------------------+------------------+------------------+--------+\n",
      "|User_ID|Product_ID|Gender|  Age|Occupation|City_Category|Stay_In_Current_City_Years|Marital_Status|Product_Category_1|Product_Category_2|Product_Category_3|Purchase|\n",
      "+-------+----------+------+-----+----------+-------------+--------------------------+--------------+------------------+------------------+------------------+--------+\n",
      "|1000001| P00069042|     F| 0-17|        10|            A|                         2|             0|                 3|              NULL|              NULL|    8370|\n",
      "|1000001| P00248942|     F| 0-17|        10|            A|                         2|             0|                 1|                 6|                14|   15200|\n",
      "|1000001| P00087842|     F| 0-17|        10|            A|                         2|             0|                12|              NULL|              NULL|    1422|\n",
      "|1000001| P00085442|     F| 0-17|        10|            A|                         2|             0|                12|                14|              NULL|    1057|\n",
      "|1000002| P00285442|     M|  55+|        16|            C|                        4+|             0|                 8|              NULL|              NULL|    7969|\n",
      "|1000003| P00193542|     M|26-35|        15|            A|                         3|             0|                 1|                 2|              NULL|   15227|\n",
      "|1000004| P00184942|     M|46-50|         7|            B|                         2|             1|                 1|                 8|                17|   19215|\n",
      "|1000004| P00346142|     M|46-50|         7|            B|                         2|             1|                 1|                15|              NULL|   15854|\n",
      "|1000004|  P0097242|     M|46-50|         7|            B|                         2|             1|                 1|                16|              NULL|   15686|\n",
      "|1000005| P00274942|     M|26-35|        20|            A|                         1|             1|                 8|              NULL|              NULL|    7871|\n",
      "|1000005| P00251242|     M|26-35|        20|            A|                         1|             1|                 5|                11|              NULL|    5254|\n",
      "|1000005| P00014542|     M|26-35|        20|            A|                         1|             1|                 8|              NULL|              NULL|    3957|\n",
      "|1000005| P00031342|     M|26-35|        20|            A|                         1|             1|                 8|              NULL|              NULL|    6073|\n",
      "|1000005| P00145042|     M|26-35|        20|            A|                         1|             1|                 1|                 2|                 5|   15665|\n",
      "|1000006| P00231342|     F|51-55|         9|            A|                         1|             0|                 5|                 8|                14|    5378|\n",
      "|1000006| P00190242|     F|51-55|         9|            A|                         1|             0|                 4|                 5|              NULL|    2079|\n",
      "|1000006|  P0096642|     F|51-55|         9|            A|                         1|             0|                 2|                 3|                 4|   13055|\n",
      "|1000006| P00058442|     F|51-55|         9|            A|                         1|             0|                 5|                14|              NULL|    8851|\n",
      "|1000007| P00036842|     M|36-45|         1|            B|                         1|             1|                 1|                14|                16|   11788|\n",
      "|1000008| P00249542|     M|26-35|        12|            C|                        4+|             1|                 1|                 5|                15|   19614|\n",
      "+-------+----------+------+-----+----------+-------------+--------------------------+--------------+------------------+------------------+------------------+--------+\n",
      "only showing top 20 rows\n",
      "\n"
     ]
    }
   ],
   "source": [
    "df.show()"
   ]
  },
  {
   "cell_type": "code",
   "execution_count": 44,
   "id": "21e51a2e-0f32-4e6c-9826-b49226e61da2",
   "metadata": {},
   "outputs": [],
   "source": [
    "## Module 1\n",
    "from pyspark.ml.feature import OneHotEncoder as SparkOneHotEncoder\n",
    "from pyspark.ml.feature import StringIndexer\n",
    "from pyspark.sql.functions import when,col\n",
    "import warnings\n",
    "\n",
    "class OneHotEncoder:\n",
    "    def __init__(self, **kwargs):\n",
    "        self.encoder = None\n",
    "        self.indexer = None\n",
    "        self.indexer_output_col = None\n",
    "        self.encoder_output_col = None\n",
    "\n",
    "    def fit(self, df, input_col):\n",
    "        self.indexer_output_col = f\"{input_col}_index\"\n",
    "        self.encoder_output_col = f\"{input_col}_encoded\"\n",
    "        \n",
    "        self.indexer = StringIndexer(inputCol=input_col, outputCol=self.indexer_output_col).fit(df)\n",
    "        indexed_df = self.indexer.transform(df)\n",
    "        \n",
    "        self.encoder = SparkOneHotEncoder(inputCol=self.indexer_output_col, outputCol=self.encoder_output_col).fit(indexed_df)\n",
    "        return self\n",
    "\n",
    "    def transform(self, df):\n",
    "        if not self.encoder or not self.indexer:\n",
    "            raise AttributeError(\"The encoder has not been fitted yet.\")\n",
    "        \n",
    "        indexed_df = self.indexer.transform(df)\n",
    "        new_df = self.encoder.transform(indexed_df)\n",
    "        new_df = new_df.drop(self.indexer_output_col)\n",
    "        return new_df\n",
    "\n",
    "class LabelEncoder:\n",
    "    def __init__(self, **kwargs):\n",
    "        self.indexer = StringIndexer(**kwargs)\n",
    "\n",
    "    def fit(self, df, input_col):\n",
    "        self.indexer.setInputCol(input_col).setOutputCol(f\"{input_col}_new\")\n",
    "        self.model = self.indexer.fit(df)\n",
    "        return self\n",
    "            \n",
    "    def transform(self, df):\n",
    "        return self.model.transform(df)\n",
    "\n",
    "class map:\n",
    "    def __init__(self):\n",
    "        pass\n",
    "    def mapper(self, df, column_name, dic):\n",
    "        for key, value in dic.items():\n",
    "            df = df.withColumn(\n",
    "                column_name,\n",
    "                when(df[column_name] == key, value).otherwise(df[column_name])\n",
    "            )\n",
    "        return df\n",
    "        \n",
    "class Cast:\n",
    "    def __init__(self):\n",
    "        pass\n",
    "\n",
    "    def cast_col(self, df, feature, datatype):\n",
    "        df = df.withColumn(\n",
    "            feature, col(feature).cast(datatype) \n",
    "        )\n",
    "        return df"
   ]
  },
  {
   "cell_type": "code",
   "execution_count": 45,
   "id": "b5c9ddeb-c02a-496f-9fb0-98eb5deee71e",
   "metadata": {},
   "outputs": [],
   "source": [
    "## Module 2\n",
    "from pyspark.ml.feature import StandardScaler as SparkStandardScaler, MinMaxScaler as SparkMinMaxScaler\n",
    "\n",
    "class StandardScaler:\n",
    "    def __init__(self, **kwargs):\n",
    "        self.scaler = SparkStandardScaler(**kwargs)\n",
    "\n",
    "    def fit(self, df, input_col):\n",
    "        self.scaler.setInputCol(input_col).setOutputCol(f\"{input_col}_scaled\")\n",
    "        self.model = self.scaler.fit(df)\n",
    "        return self\n",
    "\n",
    "    def transform(self, df):\n",
    "        return self.model.transform(df)\n",
    "\n",
    "class MinMaxScaler:\n",
    "    def __init__(self, **kwargs):\n",
    "        self.scaler = SparkMinMaxScaler(**kwargs)\n",
    "\n",
    "    def fit(self, df, input_col):\n",
    "        self.scaler.setInputCol(input_col).setOutputCol(f\"{input_col}_scaled\")\n",
    "        self.model = self.scaler.fit(df)\n",
    "        return self\n",
    "\n",
    "    def transform(self, df):\n",
    "        return self.model.transform(df)\n"
   ]
  },
  {
   "cell_type": "code",
   "execution_count": 46,
   "id": "59746178-6c80-46c0-a092-28c1d32f967a",
   "metadata": {},
   "outputs": [],
   "source": [
    "# pratlib/preprocessing/imputer.py\n",
    "from pyspark.ml.feature import Imputer as SparkImputer\n",
    "\n",
    "class Imputer:\n",
    "    def __init__(self, **kwargs):\n",
    "        self.imputer = SparkImputer(**kwargs)\n",
    "\n",
    "    def fit(self, df, input_cols, strategy):\n",
    "        self.imputer.setInputCols([input_cols]).setOutputCols([f\"{input_cols}_imputed\"]).setStrategy(strategy)\n",
    "        self.model = self.imputer.fit(df)\n",
    "        return self\n",
    "\n",
    "    def transform(self, df):\n",
    "        return self.model.transform(df)"
   ]
  },
  {
   "cell_type": "code",
   "execution_count": 109,
   "id": "bd9c2b29-94a9-4d8f-b112-e4b665821c5f",
   "metadata": {},
   "outputs": [],
   "source": [
    "from pyspark.ml.feature import VectorAssembler\n",
    "\n",
    "class Vectorizer:\n",
    "    def __init__(self,**kwargs):\n",
    "        self.model = VectorAssembler(**kwargs)\n",
    "\n",
    "    def vectorize(self,df, input_col):\n",
    "        self.model.setInputCols(input_col).setOutputCol(\"Independent Features\")\n",
    "        transformed = self.model.transform(df)\n",
    "        return transformed"
   ]
  },
  {
   "cell_type": "code",
   "execution_count": 47,
   "id": "ef96e403-0e54-48e7-bc12-2ee882694467",
   "metadata": {},
   "outputs": [],
   "source": [
    "df = df.drop('User_ID')"
   ]
  },
  {
   "cell_type": "code",
   "execution_count": 48,
   "id": "2fdddc90-d98a-40e6-b6e9-c5a9e5279db5",
   "metadata": {},
   "outputs": [],
   "source": [
    "ohe = OneHotEncoder()\n",
    "ohe.fit(df,\"Gender\")\n",
    "df = ohe.transform(df)"
   ]
  },
  {
   "cell_type": "code",
   "execution_count": 49,
   "id": "d95e8b8d-a2a5-4ed3-99a0-e2b24d9f6f36",
   "metadata": {},
   "outputs": [
    {
     "data": {
      "text/plain": [
       "[Row(Age='18-25'),\n",
       " Row(Age='26-35'),\n",
       " Row(Age='0-17'),\n",
       " Row(Age='46-50'),\n",
       " Row(Age='51-55'),\n",
       " Row(Age='36-45'),\n",
       " Row(Age='55+')]"
      ]
     },
     "execution_count": 49,
     "metadata": {},
     "output_type": "execute_result"
    }
   ],
   "source": [
    "df.select('Age').distinct().collect()"
   ]
  },
  {
   "cell_type": "code",
   "execution_count": 50,
   "id": "d5849905-67ae-48aa-9927-fe3f550c3b25",
   "metadata": {},
   "outputs": [],
   "source": [
    "map = map()"
   ]
  },
  {
   "cell_type": "code",
   "execution_count": 51,
   "id": "76fb8ff7-c124-4a46-b11f-8cace6d56a41",
   "metadata": {},
   "outputs": [],
   "source": [
    "df = map.mapper(df, \"Age\", {'0-17':0, '18-25':1,\"26-35\":2, \"36-45\":3,\"46-50\":4,\"51-55\":5,\"55+\":6})"
   ]
  },
  {
   "cell_type": "code",
   "execution_count": 52,
   "id": "df910a50-2ca3-4aa5-bf9a-58853c78c4fc",
   "metadata": {},
   "outputs": [
    {
     "data": {
      "text/plain": [
       "[('Product_ID', 'string'),\n",
       " ('Gender', 'string'),\n",
       " ('Age', 'string'),\n",
       " ('Occupation', 'int'),\n",
       " ('City_Category', 'string'),\n",
       " ('Stay_In_Current_City_Years', 'string'),\n",
       " ('Marital_Status', 'int'),\n",
       " ('Product_Category_1', 'int'),\n",
       " ('Product_Category_2', 'int'),\n",
       " ('Product_Category_3', 'int'),\n",
       " ('Purchase', 'int'),\n",
       " ('Gender_encoded', 'vector')]"
      ]
     },
     "execution_count": 52,
     "metadata": {},
     "output_type": "execute_result"
    }
   ],
   "source": [
    "df.dtypes"
   ]
  },
  {
   "cell_type": "code",
   "execution_count": 53,
   "id": "550c3f10-ed1f-4148-99cc-5eedac85b859",
   "metadata": {},
   "outputs": [],
   "source": [
    "cast = Cast()"
   ]
  },
  {
   "cell_type": "code",
   "execution_count": 54,
   "id": "f551b701-fa1e-4461-b079-4d3554667167",
   "metadata": {},
   "outputs": [],
   "source": [
    "df = cast.cast_col(df,\"Age\",\"int\")"
   ]
  },
  {
   "cell_type": "code",
   "execution_count": 55,
   "id": "96acc832-cb2a-404c-b7ac-0421bfee80ee",
   "metadata": {},
   "outputs": [
    {
     "data": {
      "text/plain": [
       "[('Product_ID', 'string'),\n",
       " ('Gender', 'string'),\n",
       " ('Age', 'int'),\n",
       " ('Occupation', 'int'),\n",
       " ('City_Category', 'string'),\n",
       " ('Stay_In_Current_City_Years', 'string'),\n",
       " ('Marital_Status', 'int'),\n",
       " ('Product_Category_1', 'int'),\n",
       " ('Product_Category_2', 'int'),\n",
       " ('Product_Category_3', 'int'),\n",
       " ('Purchase', 'int'),\n",
       " ('Gender_encoded', 'vector')]"
      ]
     },
     "execution_count": 55,
     "metadata": {},
     "output_type": "execute_result"
    }
   ],
   "source": [
    "df.dtypes"
   ]
  },
  {
   "cell_type": "code",
   "execution_count": 56,
   "id": "de566401-fc88-4dc4-9216-44496af2ed41",
   "metadata": {},
   "outputs": [],
   "source": [
    "df = map.mapper(df, \"Stay_In_Current_City_Years\", {'4+':4})"
   ]
  },
  {
   "cell_type": "code",
   "execution_count": 57,
   "id": "afc02888-d9bd-4a91-8731-8dda48123464",
   "metadata": {},
   "outputs": [],
   "source": [
    "df = cast.cast_col(df, \"Stay_In_Current_City_Years\", \"int\")"
   ]
  },
  {
   "cell_type": "code",
   "execution_count": 58,
   "id": "8d262c17-2f55-4001-b3e0-011c5b195cab",
   "metadata": {},
   "outputs": [
    {
     "data": {
      "text/plain": [
       "[('Product_ID', 'string'),\n",
       " ('Gender', 'string'),\n",
       " ('Age', 'int'),\n",
       " ('Occupation', 'int'),\n",
       " ('City_Category', 'string'),\n",
       " ('Stay_In_Current_City_Years', 'int'),\n",
       " ('Marital_Status', 'int'),\n",
       " ('Product_Category_1', 'int'),\n",
       " ('Product_Category_2', 'int'),\n",
       " ('Product_Category_3', 'int'),\n",
       " ('Purchase', 'int'),\n",
       " ('Gender_encoded', 'vector')]"
      ]
     },
     "execution_count": 58,
     "metadata": {},
     "output_type": "execute_result"
    }
   ],
   "source": [
    "df.dtypes"
   ]
  },
  {
   "cell_type": "code",
   "execution_count": 59,
   "id": "5c98a54a-072c-4453-a321-7d8249b15bc2",
   "metadata": {},
   "outputs": [],
   "source": [
    "ohe1 = OneHotEncoder()\n",
    "ohe1.fit(df,\"City_Category\")\n",
    "df = ohe1.transform(df)"
   ]
  },
  {
   "cell_type": "code",
   "execution_count": 60,
   "id": "c3f88c5d-dbb2-45e5-9893-f330adbc368a",
   "metadata": {},
   "outputs": [
    {
     "data": {
      "text/plain": [
       "['Product_ID',\n",
       " 'Gender',\n",
       " 'Age',\n",
       " 'Occupation',\n",
       " 'City_Category',\n",
       " 'Stay_In_Current_City_Years',\n",
       " 'Marital_Status',\n",
       " 'Product_Category_1',\n",
       " 'Product_Category_2',\n",
       " 'Product_Category_3',\n",
       " 'Purchase',\n",
       " 'Gender_encoded',\n",
       " 'City_Category_encoded']"
      ]
     },
     "execution_count": 60,
     "metadata": {},
     "output_type": "execute_result"
    }
   ],
   "source": [
    "df.columns"
   ]
  },
  {
   "cell_type": "code",
   "execution_count": 61,
   "id": "c518abba-ba98-42a3-80dc-752041f2d78e",
   "metadata": {},
   "outputs": [],
   "source": [
    "imp = Imputer()"
   ]
  },
  {
   "cell_type": "code",
   "execution_count": 80,
   "id": "86659f71-0c11-4e2c-92c4-3872236aa6ed",
   "metadata": {},
   "outputs": [
    {
     "data": {
      "text/plain": [
       "<__main__.Imputer at 0x1d8d102bc90>"
      ]
     },
     "execution_count": 80,
     "metadata": {},
     "output_type": "execute_result"
    }
   ],
   "source": [
    "imp.fit(df, 'Product_Category_2', 'mode')"
   ]
  },
  {
   "cell_type": "code",
   "execution_count": 81,
   "id": "44984466-152e-4612-8117-d511bb5e24c7",
   "metadata": {},
   "outputs": [],
   "source": [
    "df = imp.transform(df)"
   ]
  },
  {
   "cell_type": "code",
   "execution_count": 94,
   "id": "b01f8706-db05-4964-bf6b-2973960bac35",
   "metadata": {},
   "outputs": [],
   "source": [
    "imp2 = Imputer()\n",
    "imp.fit(df, 'Product_Category_3', 'mode')\n",
    "df = imp.transform(df)"
   ]
  },
  {
   "cell_type": "code",
   "execution_count": 95,
   "id": "22790e9c-2390-48c2-bdb9-4bc33f5d124e",
   "metadata": {},
   "outputs": [
    {
     "data": {
      "text/plain": [
       "[('Product_ID', 'string'),\n",
       " ('Gender', 'string'),\n",
       " ('Age', 'int'),\n",
       " ('Occupation', 'int'),\n",
       " ('City_Category', 'string'),\n",
       " ('Stay_In_Current_City_Years', 'int'),\n",
       " ('Marital_Status', 'int'),\n",
       " ('Product_Category_1', 'int'),\n",
       " ('Product_Category_2', 'int'),\n",
       " ('Product_Category_3', 'int'),\n",
       " ('Purchase', 'int'),\n",
       " ('Gender_encoded', 'vector'),\n",
       " ('City_Category_encoded', 'vector'),\n",
       " ('Product_Category_2_imputed', 'int'),\n",
       " ('Product_Category_3_imputed', 'int')]"
      ]
     },
     "execution_count": 95,
     "metadata": {},
     "output_type": "execute_result"
    }
   ],
   "source": [
    "df.dtypes"
   ]
  },
  {
   "cell_type": "code",
   "execution_count": 96,
   "id": "0806f714-0962-4fce-9ac2-c1623d0362dd",
   "metadata": {},
   "outputs": [
    {
     "name": "stdout",
     "output_type": "stream",
     "text": [
      "+--------------------------+\n",
      "|Product_Category_3_imputed|\n",
      "+--------------------------+\n",
      "|                        16|\n",
      "|                        14|\n",
      "|                        16|\n",
      "|                        16|\n",
      "|                        16|\n",
      "|                        16|\n",
      "|                        17|\n",
      "|                        16|\n",
      "|                        16|\n",
      "|                        16|\n",
      "|                        16|\n",
      "|                        16|\n",
      "|                        16|\n",
      "|                         5|\n",
      "|                        14|\n",
      "|                        16|\n",
      "|                         4|\n",
      "|                        16|\n",
      "|                        16|\n",
      "|                        15|\n",
      "+--------------------------+\n",
      "only showing top 20 rows\n",
      "\n"
     ]
    }
   ],
   "source": [
    "df.select('Product_Category_3_imputed').show()"
   ]
  },
  {
   "cell_type": "code",
   "execution_count": 97,
   "id": "8336f7ab-fdf1-4bb3-b1ee-8d562d205550",
   "metadata": {},
   "outputs": [
    {
     "name": "stdout",
     "output_type": "stream",
     "text": [
      "+----------+------+---+----------+-------------+--------------------------+--------------+------------------+------------------+------------------+--------+--------------+---------------------+--------------------------+--------------------------+\n",
      "|Product_ID|Gender|Age|Occupation|City_Category|Stay_In_Current_City_Years|Marital_Status|Product_Category_1|Product_Category_2|Product_Category_3|Purchase|Gender_encoded|City_Category_encoded|Product_Category_2_imputed|Product_Category_3_imputed|\n",
      "+----------+------+---+----------+-------------+--------------------------+--------------+------------------+------------------+------------------+--------+--------------+---------------------+--------------------------+--------------------------+\n",
      "| P00069042|     F|  0|        10|            A|                         2|             0|                 3|              NULL|              NULL|    8370|     (1,[],[])|            (2,[],[])|                         8|                        16|\n",
      "| P00248942|     F|  0|        10|            A|                         2|             0|                 1|                 6|                14|   15200|     (1,[],[])|            (2,[],[])|                         6|                        14|\n",
      "| P00087842|     F|  0|        10|            A|                         2|             0|                12|              NULL|              NULL|    1422|     (1,[],[])|            (2,[],[])|                         8|                        16|\n",
      "| P00085442|     F|  0|        10|            A|                         2|             0|                12|                14|              NULL|    1057|     (1,[],[])|            (2,[],[])|                        14|                        16|\n",
      "| P00285442|     M|  6|        16|            C|                         4|             0|                 8|              NULL|              NULL|    7969| (1,[0],[1.0])|        (2,[1],[1.0])|                         8|                        16|\n",
      "| P00193542|     M|  2|        15|            A|                         3|             0|                 1|                 2|              NULL|   15227| (1,[0],[1.0])|            (2,[],[])|                         2|                        16|\n",
      "| P00184942|     M|  4|         7|            B|                         2|             1|                 1|                 8|                17|   19215| (1,[0],[1.0])|        (2,[0],[1.0])|                         8|                        17|\n",
      "| P00346142|     M|  4|         7|            B|                         2|             1|                 1|                15|              NULL|   15854| (1,[0],[1.0])|        (2,[0],[1.0])|                        15|                        16|\n",
      "|  P0097242|     M|  4|         7|            B|                         2|             1|                 1|                16|              NULL|   15686| (1,[0],[1.0])|        (2,[0],[1.0])|                        16|                        16|\n",
      "| P00274942|     M|  2|        20|            A|                         1|             1|                 8|              NULL|              NULL|    7871| (1,[0],[1.0])|            (2,[],[])|                         8|                        16|\n",
      "| P00251242|     M|  2|        20|            A|                         1|             1|                 5|                11|              NULL|    5254| (1,[0],[1.0])|            (2,[],[])|                        11|                        16|\n",
      "| P00014542|     M|  2|        20|            A|                         1|             1|                 8|              NULL|              NULL|    3957| (1,[0],[1.0])|            (2,[],[])|                         8|                        16|\n",
      "| P00031342|     M|  2|        20|            A|                         1|             1|                 8|              NULL|              NULL|    6073| (1,[0],[1.0])|            (2,[],[])|                         8|                        16|\n",
      "| P00145042|     M|  2|        20|            A|                         1|             1|                 1|                 2|                 5|   15665| (1,[0],[1.0])|            (2,[],[])|                         2|                         5|\n",
      "| P00231342|     F|  5|         9|            A|                         1|             0|                 5|                 8|                14|    5378|     (1,[],[])|            (2,[],[])|                         8|                        14|\n",
      "| P00190242|     F|  5|         9|            A|                         1|             0|                 4|                 5|              NULL|    2079|     (1,[],[])|            (2,[],[])|                         5|                        16|\n",
      "|  P0096642|     F|  5|         9|            A|                         1|             0|                 2|                 3|                 4|   13055|     (1,[],[])|            (2,[],[])|                         3|                         4|\n",
      "| P00058442|     F|  5|         9|            A|                         1|             0|                 5|                14|              NULL|    8851|     (1,[],[])|            (2,[],[])|                        14|                        16|\n",
      "| P00036842|     M|  3|         1|            B|                         1|             1|                 1|                14|                16|   11788| (1,[0],[1.0])|        (2,[0],[1.0])|                        14|                        16|\n",
      "| P00249542|     M|  2|        12|            C|                         4|             1|                 1|                 5|                15|   19614| (1,[0],[1.0])|        (2,[1],[1.0])|                         5|                        15|\n",
      "+----------+------+---+----------+-------------+--------------------------+--------------+------------------+------------------+------------------+--------+--------------+---------------------+--------------------------+--------------------------+\n",
      "only showing top 20 rows\n",
      "\n"
     ]
    }
   ],
   "source": [
    "df.show()"
   ]
  },
  {
   "cell_type": "code",
   "execution_count": 98,
   "id": "8bb9fad4-b2e3-497d-a03c-3c45a51faac4",
   "metadata": {},
   "outputs": [
    {
     "data": {
      "text/plain": [
       "['Product_ID',\n",
       " 'Gender',\n",
       " 'Age',\n",
       " 'Occupation',\n",
       " 'City_Category',\n",
       " 'Stay_In_Current_City_Years',\n",
       " 'Marital_Status',\n",
       " 'Product_Category_1',\n",
       " 'Product_Category_2',\n",
       " 'Product_Category_3',\n",
       " 'Purchase',\n",
       " 'Gender_encoded',\n",
       " 'City_Category_encoded',\n",
       " 'Product_Category_2_imputed',\n",
       " 'Product_Category_3_imputed']"
      ]
     },
     "execution_count": 98,
     "metadata": {},
     "output_type": "execute_result"
    }
   ],
   "source": [
    "df.columns"
   ]
  },
  {
   "cell_type": "code",
   "execution_count": 110,
   "id": "26b818b5-953c-4820-9b80-44aa067795bc",
   "metadata": {},
   "outputs": [],
   "source": [
    "vect = Vectorizer()\n",
    "vectors = vect.vectorize(df,['Age','Occupation','City_Category_encoded','Stay_In_Current_City_Years','Marital_Status','Product_Category_1','Product_Category_2_imputed','Product_Category_3_imputed','Gender_encoded','City_Category_encoded'])"
   ]
  },
  {
   "cell_type": "code",
   "execution_count": 111,
   "id": "16b83738-b989-40dd-89f2-f5c28bf6bb35",
   "metadata": {},
   "outputs": [
    {
     "name": "stdout",
     "output_type": "stream",
     "text": [
      "+--------------------+\n",
      "|Independent Features|\n",
      "+--------------------+\n",
      "|(12,[1,4,6,7,8],[...|\n",
      "|(12,[1,4,6,7,8],[...|\n",
      "|(12,[1,4,6,7,8],[...|\n",
      "|(12,[1,4,6,7,8],[...|\n",
      "|[6.0,16.0,0.0,1.0...|\n",
      "|[2.0,15.0,0.0,0.0...|\n",
      "|[4.0,7.0,1.0,0.0,...|\n",
      "|[4.0,7.0,1.0,0.0,...|\n",
      "|[4.0,7.0,1.0,0.0,...|\n",
      "|[2.0,20.0,0.0,0.0...|\n",
      "|[2.0,20.0,0.0,0.0...|\n",
      "|[2.0,20.0,0.0,0.0...|\n",
      "|[2.0,20.0,0.0,0.0...|\n",
      "|[2.0,20.0,0.0,0.0...|\n",
      "|(12,[0,1,4,6,7,8]...|\n",
      "|(12,[0,1,4,6,7,8]...|\n",
      "|(12,[0,1,4,6,7,8]...|\n",
      "|(12,[0,1,4,6,7,8]...|\n",
      "|[3.0,1.0,1.0,0.0,...|\n",
      "|[2.0,12.0,0.0,1.0...|\n",
      "+--------------------+\n",
      "only showing top 20 rows\n",
      "\n"
     ]
    }
   ],
   "source": [
    "vectors.select('Independent Features').show()"
   ]
  },
  {
   "cell_type": "code",
   "execution_count": 99,
   "id": "758c7a76-d159-4b94-8220-2d3faadc4c72",
   "metadata": {},
   "outputs": [],
   "source": [
    "from pyspark.ml.feature import VectorAssembler\n",
    "featureassembler=VectorAssembler(inputCols=['Age','Occupation','City_Category_encoded','Stay_In_Current_City_Years','Marital_Status','Product_Category_1','Product_Category_2_imputed','Product_Category_3_imputed','Gender_encoded','City_Category_encoded'],outputCol=\"Independent Features\")\n",
    "finalized_data=output.select(\"Independent Features\",\"purchase\")"
   ]
  },
  {
   "cell_type": "code",
   "execution_count": 100,
   "id": "b5a93fa5-6dee-4c52-946d-a3d39c131d6a",
   "metadata": {},
   "outputs": [
    {
     "name": "stdout",
     "output_type": "stream",
     "text": [
      "+--------------------+\n",
      "|Independent Features|\n",
      "+--------------------+\n",
      "|(12,[1,4,6,7,8],[...|\n",
      "|(12,[1,4,6,7,8],[...|\n",
      "|(12,[1,4,6,7,8],[...|\n",
      "|(12,[1,4,6,7,8],[...|\n",
      "|[6.0,16.0,0.0,1.0...|\n",
      "|[2.0,15.0,0.0,0.0...|\n",
      "|[4.0,7.0,1.0,0.0,...|\n",
      "|[4.0,7.0,1.0,0.0,...|\n",
      "|[4.0,7.0,1.0,0.0,...|\n",
      "|[2.0,20.0,0.0,0.0...|\n",
      "|[2.0,20.0,0.0,0.0...|\n",
      "|[2.0,20.0,0.0,0.0...|\n",
      "|[2.0,20.0,0.0,0.0...|\n",
      "|[2.0,20.0,0.0,0.0...|\n",
      "|(12,[0,1,4,6,7,8]...|\n",
      "|(12,[0,1,4,6,7,8]...|\n",
      "|(12,[0,1,4,6,7,8]...|\n",
      "|(12,[0,1,4,6,7,8]...|\n",
      "|[3.0,1.0,1.0,0.0,...|\n",
      "|[2.0,12.0,0.0,1.0...|\n",
      "+--------------------+\n",
      "only showing top 20 rows\n",
      "\n"
     ]
    }
   ],
   "source": [
    "output.select('Independent Features').show()"
   ]
  },
  {
   "cell_type": "code",
   "execution_count": 101,
   "id": "56169cfd-04ee-48b2-8302-01103f7855c2",
   "metadata": {},
   "outputs": [],
   "source": [
    "finalized_data=output.select(\"Independent Features\",\"purchase\")"
   ]
  },
  {
   "cell_type": "code",
   "execution_count": 102,
   "id": "3b76ecbf-501a-44da-848d-c4e70e97ec73",
   "metadata": {},
   "outputs": [
    {
     "name": "stdout",
     "output_type": "stream",
     "text": [
      "+--------------------+--------+\n",
      "|Independent Features|purchase|\n",
      "+--------------------+--------+\n",
      "|(12,[1,4,6,7,8],[...|    8370|\n",
      "|(12,[1,4,6,7,8],[...|   15200|\n",
      "|(12,[1,4,6,7,8],[...|    1422|\n",
      "|(12,[1,4,6,7,8],[...|    1057|\n",
      "|[6.0,16.0,0.0,1.0...|    7969|\n",
      "|[2.0,15.0,0.0,0.0...|   15227|\n",
      "|[4.0,7.0,1.0,0.0,...|   19215|\n",
      "|[4.0,7.0,1.0,0.0,...|   15854|\n",
      "|[4.0,7.0,1.0,0.0,...|   15686|\n",
      "|[2.0,20.0,0.0,0.0...|    7871|\n",
      "|[2.0,20.0,0.0,0.0...|    5254|\n",
      "|[2.0,20.0,0.0,0.0...|    3957|\n",
      "|[2.0,20.0,0.0,0.0...|    6073|\n",
      "|[2.0,20.0,0.0,0.0...|   15665|\n",
      "|(12,[0,1,4,6,7,8]...|    5378|\n",
      "|(12,[0,1,4,6,7,8]...|    2079|\n",
      "|(12,[0,1,4,6,7,8]...|   13055|\n",
      "|(12,[0,1,4,6,7,8]...|    8851|\n",
      "|[3.0,1.0,1.0,0.0,...|   11788|\n",
      "|[2.0,12.0,0.0,1.0...|   19614|\n",
      "+--------------------+--------+\n",
      "only showing top 20 rows\n",
      "\n"
     ]
    }
   ],
   "source": [
    "finalized_data.show()"
   ]
  },
  {
   "cell_type": "code",
   "execution_count": 103,
   "id": "dc3ee57c-5afe-4f7f-81c3-72e68830adb7",
   "metadata": {},
   "outputs": [],
   "source": [
    "from pyspark.ml.regression import LinearRegression\n",
    "##train test split\n",
    "train_data,test_data=finalized_data.randomSplit([0.75,0.25])\n",
    "regressor=LinearRegression(featuresCol='Independent Features', labelCol='purchase')\n",
    "regressor=regressor.fit(train_data)"
   ]
  },
  {
   "cell_type": "code",
   "execution_count": 104,
   "id": "c8c3128e-4dba-459e-b418-e40d28466767",
   "metadata": {},
   "outputs": [
    {
     "data": {
      "text/plain": [
       "DenseVector([124.2398, 6.0639, 84.8423, 350.5784, 10.1534, -59.8281, -412.3959, -74.3645, 113.8365, 489.1411, 84.8423, 350.5784])"
      ]
     },
     "execution_count": 104,
     "metadata": {},
     "output_type": "execute_result"
    }
   ],
   "source": [
    "regressor.coefficients"
   ]
  },
  {
   "cell_type": "code",
   "execution_count": 105,
   "id": "5ddb558c-d9f6-4c86-be8a-d083dd1e3cf5",
   "metadata": {},
   "outputs": [
    {
     "data": {
      "text/plain": [
       "9808.80073034847"
      ]
     },
     "execution_count": 105,
     "metadata": {},
     "output_type": "execute_result"
    }
   ],
   "source": [
    "regressor.intercept"
   ]
  },
  {
   "cell_type": "code",
   "execution_count": 106,
   "id": "58127a92-9a3d-4fac-ae33-164c51fea99f",
   "metadata": {},
   "outputs": [],
   "source": [
    "pred_results=regressor.evaluate(test_data)"
   ]
  },
  {
   "cell_type": "code",
   "execution_count": 107,
   "id": "e40419ac-3120-4af4-88eb-5eb21b8d91c9",
   "metadata": {},
   "outputs": [
    {
     "name": "stdout",
     "output_type": "stream",
     "text": [
      "+--------------------+--------+------------------+\n",
      "|Independent Features|purchase|        prediction|\n",
      "+--------------------+--------+------------------+\n",
      "|(12,[0,1,4,6,7,8]...|    8329|  9967.46891558951|\n",
      "|(12,[0,1,4,6,7,8]...|   11924|10318.137529794309|\n",
      "|(12,[0,1,4,6,7,8]...|   11752| 9723.221570096885|\n",
      "|(12,[0,1,4,6,7,8]...|   12741|10128.835149767056|\n",
      "|(12,[0,1,4,6,7,8]...|   13187|10128.835149767056|\n",
      "|(12,[0,1,4,6,7,8]...|    9896| 9905.741664880521|\n",
      "|(12,[0,1,4,6,7,8]...|    8057| 9790.803779815447|\n",
      "|(12,[0,1,4,6,7,8]...|    2798| 8739.440399062432|\n",
      "|(12,[0,1,4,6,7,8]...|    8638|  8668.55407013916|\n",
      "|(12,[0,1,4,6,7,8]...|    1885| 8594.189575176983|\n",
      "|(12,[0,1,4,6,7,8]...|    2010| 8594.189575176983|\n",
      "|(12,[0,1,4,6,7,8]...|    3464| 8594.189575176983|\n",
      "|(12,[0,1,4,6,7,8]...|    3661| 8594.189575176983|\n",
      "|(12,[0,1,4,6,7,8]...|    5278| 8594.189575176983|\n",
      "|(12,[0,1,4,6,7,8]...|    5373| 8594.189575176983|\n",
      "|(12,[0,1,4,6,7,8]...|    6934| 8594.189575176983|\n",
      "|(12,[0,1,4,6,7,8]...|    6967| 8594.189575176983|\n",
      "|(12,[0,1,4,6,7,8]...|    7076| 8594.189575176983|\n",
      "|(12,[0,1,4,6,7,8]...|    8667| 8594.189575176983|\n",
      "|(12,[0,1,4,6,7,8]...|    7179| 8222.367100366091|\n",
      "+--------------------+--------+------------------+\n",
      "only showing top 20 rows\n",
      "\n"
     ]
    }
   ],
   "source": [
    "## Final comparison\n",
    "pred_results.predictions.show()"
   ]
  },
  {
   "cell_type": "code",
   "execution_count": 108,
   "id": "160dc775-10f7-4897-bda1-ca5d07940558",
   "metadata": {},
   "outputs": [
    {
     "data": {
      "text/plain": [
       "(0.12967787240737583, 3582.671384438788, 21870759.419125516)"
      ]
     },
     "execution_count": 108,
     "metadata": {},
     "output_type": "execute_result"
    }
   ],
   "source": [
    "### PErformance Metrics\n",
    "pred_results.r2,pred_results.meanAbsoluteError,pred_results.meanSquaredError"
   ]
  },
  {
   "cell_type": "code",
   "execution_count": null,
   "id": "24370d49-10af-4bc4-8555-f8e941663826",
   "metadata": {},
   "outputs": [],
   "source": []
  },
  {
   "cell_type": "code",
   "execution_count": null,
   "id": "e0a2ac3f-c218-4c35-aa06-89c1bed571e8",
   "metadata": {},
   "outputs": [],
   "source": []
  },
  {
   "cell_type": "code",
   "execution_count": 35,
   "id": "119a40f8-1800-49ad-84cf-641de7e39439",
   "metadata": {},
   "outputs": [],
   "source": [
    "# pratlib/vectorizer/vectorizer.py\n",
    "\n",
    "from pyspark.ml.feature import VectorAssembler\n",
    "\n",
    "class Vectorizer:\n",
    "    def __init__(self):\n",
    "        self.assembler = None\n",
    "        self.output_col = \"Independent Features\"\n",
    "\n",
    "    def fit_transform(self, df, input_cols, label_col):\n",
    "        # self.output_col = \"Independent Features\"\n",
    "        self.assembler = VectorAssembler(inputCols=input_cols, outputCol=self.output_col)\n",
    "        transformed_df = self.assembler.transform(df)\n",
    "        # out = df.select(self.output_col, label_col)\n",
    "        return transformed_df\n",
    "\n",
    "    # def get_features_and_label(self, df, label_col):\n",
    "    #     return df.select(self.output_col, label_col)\n"
   ]
  },
  {
   "cell_type": "code",
   "execution_count": 31,
   "id": "1c92ba35-de8a-47fb-8a70-f36ad106582f",
   "metadata": {},
   "outputs": [],
   "source": [
    "vec = Vectorizer()"
   ]
  },
  {
   "cell_type": "code",
   "execution_count": 32,
   "id": "0ce3415e-79cc-4eb0-91a4-c6109a7b396e",
   "metadata": {},
   "outputs": [
    {
     "name": "stdout",
     "output_type": "stream",
     "text": [
      "+----------+------+---+----------+-------------+--------------------------+--------------+------------------+------------------+------------------+--------+--------------+---------------------+--------------------------+--------------------------+--------------------+\n",
      "|Product_ID|Gender|Age|Occupation|City_Category|Stay_In_Current_City_Years|Marital_Status|Product_Category_1|Product_Category_2|Product_Category_3|Purchase|Gender_encoded|City_Category_encoded|Product_Category_2_imputed|Product_Category_3_imputed|Independent Features|\n",
      "+----------+------+---+----------+-------------+--------------------------+--------------+------------------+------------------+------------------+--------+--------------+---------------------+--------------------------+--------------------------+--------------------+\n",
      "| P00069042|     F|  0|        10|            A|                         2|             0|                 3|              NULL|              NULL|    8370|     (1,[],[])|            (2,[],[])|                         9|                        12|(12,[1,4,6,7,8],[...|\n",
      "| P00248942|     F|  0|        10|            A|                         2|             0|                 1|                 6|                14|   15200|     (1,[],[])|            (2,[],[])|                         6|                        14|(12,[1,4,6,7,8],[...|\n",
      "| P00087842|     F|  0|        10|            A|                         2|             0|                12|              NULL|              NULL|    1422|     (1,[],[])|            (2,[],[])|                         9|                        12|(12,[1,4,6,7,8],[...|\n",
      "| P00085442|     F|  0|        10|            A|                         2|             0|                12|                14|              NULL|    1057|     (1,[],[])|            (2,[],[])|                        14|                        12|(12,[1,4,6,7,8],[...|\n",
      "| P00285442|     M|  6|        16|            C|                         4|             0|                 8|              NULL|              NULL|    7969| (1,[0],[1.0])|        (2,[1],[1.0])|                         9|                        12|[6.0,16.0,0.0,1.0...|\n",
      "| P00193542|     M|  2|        15|            A|                         3|             0|                 1|                 2|              NULL|   15227| (1,[0],[1.0])|            (2,[],[])|                         2|                        12|[2.0,15.0,0.0,0.0...|\n",
      "| P00184942|     M|  4|         7|            B|                         2|             1|                 1|                 8|                17|   19215| (1,[0],[1.0])|        (2,[0],[1.0])|                         8|                        17|[4.0,7.0,1.0,0.0,...|\n",
      "| P00346142|     M|  4|         7|            B|                         2|             1|                 1|                15|              NULL|   15854| (1,[0],[1.0])|        (2,[0],[1.0])|                        15|                        12|[4.0,7.0,1.0,0.0,...|\n",
      "|  P0097242|     M|  4|         7|            B|                         2|             1|                 1|                16|              NULL|   15686| (1,[0],[1.0])|        (2,[0],[1.0])|                        16|                        12|[4.0,7.0,1.0,0.0,...|\n",
      "| P00274942|     M|  2|        20|            A|                         1|             1|                 8|              NULL|              NULL|    7871| (1,[0],[1.0])|            (2,[],[])|                         9|                        12|[2.0,20.0,0.0,0.0...|\n",
      "| P00251242|     M|  2|        20|            A|                         1|             1|                 5|                11|              NULL|    5254| (1,[0],[1.0])|            (2,[],[])|                        11|                        12|[2.0,20.0,0.0,0.0...|\n",
      "| P00014542|     M|  2|        20|            A|                         1|             1|                 8|              NULL|              NULL|    3957| (1,[0],[1.0])|            (2,[],[])|                         9|                        12|[2.0,20.0,0.0,0.0...|\n",
      "| P00031342|     M|  2|        20|            A|                         1|             1|                 8|              NULL|              NULL|    6073| (1,[0],[1.0])|            (2,[],[])|                         9|                        12|[2.0,20.0,0.0,0.0...|\n",
      "| P00145042|     M|  2|        20|            A|                         1|             1|                 1|                 2|                 5|   15665| (1,[0],[1.0])|            (2,[],[])|                         2|                         5|[2.0,20.0,0.0,0.0...|\n",
      "| P00231342|     F|  5|         9|            A|                         1|             0|                 5|                 8|                14|    5378|     (1,[],[])|            (2,[],[])|                         8|                        14|(12,[0,1,4,6,7,8]...|\n",
      "| P00190242|     F|  5|         9|            A|                         1|             0|                 4|                 5|              NULL|    2079|     (1,[],[])|            (2,[],[])|                         5|                        12|(12,[0,1,4,6,7,8]...|\n",
      "|  P0096642|     F|  5|         9|            A|                         1|             0|                 2|                 3|                 4|   13055|     (1,[],[])|            (2,[],[])|                         3|                         4|(12,[0,1,4,6,7,8]...|\n",
      "| P00058442|     F|  5|         9|            A|                         1|             0|                 5|                14|              NULL|    8851|     (1,[],[])|            (2,[],[])|                        14|                        12|(12,[0,1,4,6,7,8]...|\n",
      "| P00036842|     M|  3|         1|            B|                         1|             1|                 1|                14|                16|   11788| (1,[0],[1.0])|        (2,[0],[1.0])|                        14|                        16|[3.0,1.0,1.0,0.0,...|\n",
      "| P00249542|     M|  2|        12|            C|                         4|             1|                 1|                 5|                15|   19614| (1,[0],[1.0])|        (2,[1],[1.0])|                         5|                        15|[2.0,12.0,0.0,1.0...|\n",
      "+----------+------+---+----------+-------------+--------------------------+--------------+------------------+------------------+------------------+--------+--------------+---------------------+--------------------------+--------------------------+--------------------+\n",
      "only showing top 20 rows\n",
      "\n"
     ]
    }
   ],
   "source": [
    "df = vec.fit_transform(df,['Age','Occupation','City_Category_encoded','Stay_In_Current_City_Years','Marital_Status','Product_Category_1','Product_Category_2_imputed','Product_Category_3_imputed','Gender_encoded','City_Category_encoded'], 'Purchase').show()"
   ]
  },
  {
   "cell_type": "code",
   "execution_count": 74,
   "id": "b7d909b2-fed9-49b4-b08c-0f4cdf42f050",
   "metadata": {},
   "outputs": [
    {
     "ename": "AttributeError",
     "evalue": "'Vectorizer' object has no attribute 'get_features_and_label'",
     "output_type": "error",
     "traceback": [
      "\u001b[1;31m---------------------------------------------------------------------------\u001b[0m",
      "\u001b[1;31mAttributeError\u001b[0m                            Traceback (most recent call last)",
      "Cell \u001b[1;32mIn[74], line 1\u001b[0m\n\u001b[1;32m----> 1\u001b[0m vec\u001b[38;5;241m.\u001b[39mget_features_and_label(df,\u001b[38;5;124m\"\u001b[39m\u001b[38;5;124mPurchase\u001b[39m\u001b[38;5;124m\"\u001b[39m)\n",
      "\u001b[1;31mAttributeError\u001b[0m: 'Vectorizer' object has no attribute 'get_features_and_label'"
     ]
    }
   ],
   "source": [
    "# vec.get_features_and_label(df,\"Purchase\")"
   ]
  },
  {
   "cell_type": "code",
   "execution_count": 33,
   "id": "ec0b10cf-bb32-40b9-bf28-c5acebc056b0",
   "metadata": {},
   "outputs": [
    {
     "ename": "AttributeError",
     "evalue": "'NoneType' object has no attribute 'select'",
     "output_type": "error",
     "traceback": [
      "\u001b[1;31m---------------------------------------------------------------------------\u001b[0m",
      "\u001b[1;31mAttributeError\u001b[0m                            Traceback (most recent call last)",
      "Cell \u001b[1;32mIn[33], line 1\u001b[0m\n\u001b[1;32m----> 1\u001b[0m df\u001b[38;5;241m.\u001b[39mselect(\u001b[38;5;124m\"\u001b[39m\u001b[38;5;124mIndependent Features\u001b[39m\u001b[38;5;124m\"\u001b[39m)\n",
      "\u001b[1;31mAttributeError\u001b[0m: 'NoneType' object has no attribute 'select'"
     ]
    }
   ],
   "source": [
    "df.select(\"Independent Features\")"
   ]
  },
  {
   "cell_type": "code",
   "execution_count": null,
   "id": "0dda207e-80d8-4c3f-9ce7-d9a535939ba4",
   "metadata": {},
   "outputs": [],
   "source": []
  },
  {
   "cell_type": "code",
   "execution_count": null,
   "id": "93dcab3c-10b2-400d-9792-3d26f545a70b",
   "metadata": {},
   "outputs": [],
   "source": []
  }
 ],
 "metadata": {
  "kernelspec": {
   "display_name": "Python 3 (ipykernel)",
   "language": "python",
   "name": "python3"
  },
  "language_info": {
   "codemirror_mode": {
    "name": "ipython",
    "version": 3
   },
   "file_extension": ".py",
   "mimetype": "text/x-python",
   "name": "python",
   "nbconvert_exporter": "python",
   "pygments_lexer": "ipython3",
   "version": "3.11.7"
  }
 },
 "nbformat": 4,
 "nbformat_minor": 5
}
